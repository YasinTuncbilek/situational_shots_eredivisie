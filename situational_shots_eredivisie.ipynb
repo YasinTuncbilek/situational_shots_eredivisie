{
 "cells": [
  {
   "cell_type": "code",
   "execution_count": 9,
   "id": "803c158d",
   "metadata": {},
   "outputs": [],
   "source": [
    "# Analysis: Situational shots Eredivisie\n",
    "# Name: Yasin Tunçbilek\n",
    "# Data: 13 January 2024"
   ]
  },
  {
   "cell_type": "code",
   "execution_count": 4,
   "id": "24be6f61",
   "metadata": {},
   "outputs": [
    {
     "name": "stdout",
     "output_type": "stream",
     "text": [
      "                   Team  Total  OpenPlay  Counter  SetPiece  PenaltyTaken  \\\n",
      "0      1. PSV Eindhoven   24.2      18.6      0.8       4.5           0.4   \n",
      "1          2. Feyenoord   21.0      14.5      0.8       5.6           0.1   \n",
      "2             3. Twente   18.4      13.1      0.5       4.8           0.1   \n",
      "3               4. Ajax   16.9      12.8      0.8       3.2           0.3   \n",
      "4         5. AZ Alkmaar   14.4      10.3      0.4       3.7           0.1   \n",
      "5      6. SC Heerenveen   13.9       9.9      0.5       3.3           0.2   \n",
      "6    7. Go Ahead Eagles   13.9      10.1      0.4       3.3           0.1   \n",
      "7   8. Sparta Rotterdam   13.4       9.3      0.7       3.1           0.3   \n",
      "8    9. Fortuna Sittard   12.6       7.9      0.3       4.1           0.3   \n",
      "9        10. PEC Zwolle   12.5       9.9      0.1       2.4           0.1   \n",
      "10   11. Almere City FC   12.4       8.4      0.7       3.2           0.1   \n",
      "11     12. RKC Waalwijk   12.2       8.4      0.6       2.9           0.2   \n",
      "12       13. FC Utrecht   11.6       7.3      0.6       3.7           0.0   \n",
      "13          14. Vitesse   11.6       7.1      0.7       3.8           0.0   \n",
      "14        15. Excelsior   11.3       8.3      1.1       1.9           0.0   \n",
      "15     16. NEC Nijmegen   11.2       8.3      0.4       2.4           0.1   \n",
      "16         17. Heracles   11.2       6.8      0.8       3.4           0.2   \n",
      "17      18. FC Volendam   10.1       6.8      0.4       2.8           0.1   \n",
      "\n",
      "    Rating  \n",
      "0     7.23  \n",
      "1     7.02  \n",
      "2     6.73  \n",
      "3     6.75  \n",
      "4     6.80  \n",
      "5     6.55  \n",
      "6     6.67  \n",
      "7     6.71  \n",
      "8     6.55  \n",
      "9     6.61  \n",
      "10    6.54  \n",
      "11    6.49  \n",
      "12    6.52  \n",
      "13    6.45  \n",
      "14    6.64  \n",
      "15    6.69  \n",
      "16    6.44  \n",
      "17    6.49  \n"
     ]
    }
   ],
   "source": [
    "# Import pandas\n",
    "import pandas as pd\n",
    "df = pd.read_csv(\"situational_shots_eredivisie.txt\", sep = \"\\t\")\n",
    "print(df)"
   ]
  },
  {
   "cell_type": "code",
   "execution_count": 8,
   "id": "f09cb23f",
   "metadata": {
    "scrolled": true
   },
   "outputs": [
    {
     "name": "stdout",
     "output_type": "stream",
     "text": [
      "Team\tTotal\tOpenPlay\tCounter\tSetPiece\tPenaltyTaken\tRating\n",
      "1. PSV Eindhoven\t24.2\t18.6\t0.8\t4.5\t0.4\t7.23\n",
      "2. Feyenoord\t21\t14.5\t0.8\t5.6\t0.1\t7.02\n",
      "3. Twente\t18.4\t13.1\t0.5\t4.8\t0.1\t6.73\n",
      "4. Ajax\t16.9\t12.8\t0.8\t3.2\t0.3\t6.75\n",
      "5. AZ Alkmaar\t14.4\t10.3\t0.4\t3.7\t0.1\t6.80\n",
      "6. SC Heerenveen\t13.9\t9.9\t0.5\t3.3\t0.2\t6.55\n",
      "7. Go Ahead Eagles\t13.9\t10.1\t0.4\t3.3\t0.1\t6.67\n",
      "8. Sparta Rotterdam\t13.4\t9.3\t0.7\t3.1\t0.3\t6.71\n",
      "9. Fortuna Sittard\t12.6\t7.9\t0.3\t4.1\t0.3\t6.55\n",
      "10. PEC Zwolle\t12.5\t9.9\t0.1\t2.4\t0.1\t6.61\n",
      "11. Almere City FC\t12.4\t8.4\t0.7\t3.2\t0.1\t6.54\n",
      "12. RKC Waalwijk\t12.2\t8.4\t0.6\t2.9\t0.2\t6.49\n",
      "13. FC Utrecht\t11.6\t7.3\t0.6\t3.7\t0\t6.52\n",
      "14. Vitesse\t11.6\t7.1\t0.7\t3.8\t0\t6.45\n",
      "15. Excelsior\t11.3\t8.3\t1.1\t1.9\t0\t6.64\n",
      "16. NEC Nijmegen\t11.2\t8.3\t0.4\t2.4\t0.1\t6.69\n",
      "17. Heracles\t11.2\t6.8\t0.8\t3.4\t0.2\t6.44\n",
      "18. FC Volendam\t10.1\t6.8\t0.4\t2.8\t0.1\t6.49\n"
     ]
    }
   ],
   "source": [
    "# Open and read data: method 1\n",
    "file = open(\"situational_shots_eredivisie.txt\", \"r\")\n",
    "data = file()\n",
    "print(data)\n",
    "file.close()"
   ]
  },
  {
   "cell_type": "code",
   "execution_count": null,
   "id": "2f7168a4",
   "metadata": {},
   "outputs": [],
   "source": []
  },
  {
   "cell_type": "code",
   "execution_count": 37,
   "id": "6d366f18",
   "metadata": {},
   "outputs": [
    {
     "name": "stdout",
     "output_type": "stream",
     "text": [
      "PSV Eindhoven\n",
      "3.31\n",
      "Feyenoord\n",
      "3.81\n",
      "Twente\n",
      "2.72\n",
      "Ajax\n",
      "4.73\n",
      "AZ Alkmaar\n",
      "2.78\n",
      "SC Heerenveen\n",
      "3.6\n",
      "Go Ahead Eagles\n",
      "2.88\n",
      "Sparta Rotterdam\n",
      "5.22\n",
      "Fortuna Sittard\n",
      "2.38\n",
      "PEC Zwolle\n",
      "0.8\n",
      "Almere City FC\n",
      "5.65\n",
      "RKC Waalwijk\n",
      "4.92\n",
      "FC Utrecht\n",
      "5.17\n",
      "Vitesse\n",
      "6.03\n",
      "Excelsior\n",
      "9.73\n",
      "NEC Nijmegen\n",
      "3.57\n",
      "Heracles\n",
      "7.14\n",
      "FC Volendam\n",
      "3.96\n"
     ]
    }
   ],
   "source": [
    "# Open and read data: method 2\n",
    "file = open(\"situational_shots_eredivisie.txt\", \"r\")\n",
    "data = file.readlines()[1:]\n",
    "\n",
    "for line in data:\n",
    "    sline = line.split(\"\\t\")\n",
    "    \n",
    "    team_names = sline[0]\n",
    "    team_split = team_names.split(\" \", 1)[1]\n",
    "    \n",
    "    total_shots_p90 = float(sline[1])\n",
    "    shots_from_counters_p90 = float(sline[3])\n",
    "    \n",
    "    ratio_shots_from_counters = round(((shots_from_counters_p90 / total_shots_p90) * 100), 2)\n",
    "        \n",
    "    print(team_split)\n",
    "    print(ratio_shots_from_counters)\n",
    "\n",
    "file.close()"
   ]
  },
  {
   "cell_type": "code",
   "execution_count": 1,
   "id": "907351ca",
   "metadata": {},
   "outputs": [],
   "source": [
    "# TEST\n",
    "### TEST"
   ]
  }
 ],
 "metadata": {
  "kernelspec": {
   "display_name": "Python 3 (ipykernel)",
   "language": "python",
   "name": "python3"
  },
  "language_info": {
   "codemirror_mode": {
    "name": "ipython",
    "version": 3
   },
   "file_extension": ".py",
   "mimetype": "text/x-python",
   "name": "python",
   "nbconvert_exporter": "python",
   "pygments_lexer": "ipython3",
   "version": "3.11.5"
  }
 },
 "nbformat": 4,
 "nbformat_minor": 5
}
